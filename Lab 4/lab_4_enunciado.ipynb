{
 "metadata": {
  "language_info": {
   "codemirror_mode": {
    "name": "ipython",
    "version": 3
   },
   "file_extension": ".py",
   "mimetype": "text/x-python",
   "name": "python",
   "nbconvert_exporter": "python",
   "pygments_lexer": "ipython3",
   "version": "3.8.5-final"
  },
  "orig_nbformat": 2,
  "kernelspec": {
   "name": "python38564bitbikescondae1ab51fac3cc46409a7802ba5aef548d",
   "display_name": "Python 3.8.5 64-bit ('bikes': conda)"
  }
 },
 "nbformat": 4,
 "nbformat_minor": 2,
 "cells": [
  {
   "source": [
    "El laboratorio debe ser realizado dentro del plazo establecido por la tarea bajo las siguientes condiciones:\n",
    "\n",
    "-   La hora de entrega final para el Lab será el día martes a las 23:00 hrs.\n",
    "-   El laboratorio puede ser realizado en grupos siempre y cuando los nombres de todos los integrantes estén detallados en el documento entregado\n",
    "-   El entregable es un archivo de jupyter notebook mediante la sección de tareas de U-Cursos, el archivo debe poder ser ejecutado sin errores de manera sequencial.\n",
    "\n",
    "Nombres de integrantes del grupo:\n",
    "\n",
    "    1.  \n",
    "\n",
    "    2.\n",
    "\n",
    "    3.\n",
    "    \n",
    "    4."
   ],
   "cell_type": "markdown",
   "metadata": {}
  },
  {
   "source": [
    "1- Explique como funciona el modelo KNN Regresor y los parámetros que debe setear para correr el modelo (0.5 pts)\n",
    "\n",
    "2- Determine y limpie datos errados en caso de ser necesario y luego grafique la distribución así como el scatter plot de la variable 'SalePrice' Vs. al menos 10 variables contínuas que considere relvantes. Explique que de la información encontrada puede utilizar para construir o customizar sus modelos para predecir la variable 'SalePrice'. (1 pto)\n",
    "\n",
    "3- Haga las transformaciones apropiadas a la tabla 'housing_data' para que pueda entrenar sus modelos, revise que no solo las variables en string representan variables categoricas. (0.5 pts)\n",
    "\n",
    "4- Ajuste 5 modelos de regresión que le permitan predecir la variable 'SalePrice' utilizando algoritmos distintos para predecir la variable. Debe señalar de manera explicita las métricas (más de una) que usará para seleccionar un modelo a utlizar justificando su elección (para esto puede proponer supuestos sobre como se utilizará el modelo siempre y cuando sean razonables y plausibles). (1.5 pto)\n",
    "\n",
    "5- Un colega le dice que según su experiencia el modelo KNN regresor debería tener un mejor rendimiento de lo que le da el modelo que entrenó. Busque una configuración que le entregue mejores valores para las metricas de error MAE y RMSE. En base a su modelo nuevo determine bajo que situaciones prefiere su modelo original y cuando preferiría utilizar su modelo de KNN optimizado. Justifique su respuesta. (1.5 pto)\n",
    "\n",
    "(le puede ser útil saber que los parámetros para la configuración óptima de KNN en esta aplicación continen los valores: p=1, y leaf_size= 33, además puede demorarse menos en ajustar el modelo si setea el parámetro n_jobs= -1, esto puede hacer que su computador no lo deje hacer otra cosa mientras entrena su modelo, usar con cuidado)\n",
    "\n",
    "\n",
    "6- Mencione y explique dos alternativas que puede usar para evaluar la robustez de su modelo elegido. (0.5 pts)\n",
    "\n",
    "7- Explique como cambiaría su decisión de qué modleo implementar si es que lo tiene que implementar en estos dos casos:\n",
    "\n",
    "    -   Trabaja en una aseguradora y le piden determinar el precio de las vivendas de sus clientes para el producto de seguros contra incendios\n",
    "    -   Trabaja en la organización del país que vela por el pago de impuesto de contribuciones y le piden estimar el valor comercial de las viviendas, considere que en caso de sobre estimar esto, los propietaros reclaman y se puede re-evaluar la valoración.\n",
    "\n",
    "En particular, expliqué que aspecto de su modelo evaluaría para determinar si el modelo se ajusta a su aplicación en cada caso, no es necesario implementar la evaluación pero si detallar como lo haría y como el análisis cambia para cada caso. (0.5 pts)\n",
    "\n"
   ],
   "cell_type": "markdown",
   "metadata": {}
  },
  {
   "cell_type": "code",
   "execution_count": 2,
   "metadata": {},
   "outputs": [],
   "source": [
    "import pandas as pd"
   ]
  },
  {
   "cell_type": "code",
   "execution_count": 3,
   "metadata": {},
   "outputs": [],
   "source": [
    "housing_data = pd.read_csv('https://raw.githubusercontent.com/saguerraty/Aux-IN6531-/master/Lab%204/housing_data.csv')"
   ]
  },
  {
   "cell_type": "code",
   "execution_count": 6,
   "metadata": {},
   "outputs": [
    {
     "output_type": "execute_result",
     "data": {
      "text/plain": [
       "   Unnamed: 0  Id  MSSubClass MSZoning  LotArea Street LotShape LandContour  \\\n",
       "0           0   1          60       RL     8450   Pave      Reg         Lvl   \n",
       "1           1   2          20       RL     9600   Pave      Reg         Lvl   \n",
       "2           2   3          60       RL    11250   Pave      IR1         Lvl   \n",
       "3           3   4          70       RL     9550   Pave      IR1         Lvl   \n",
       "4           4   5          60       RL    14260   Pave      IR1         Lvl   \n",
       "\n",
       "  Utilities LotConfig  ... KitchenQual TotRmsAbvGrd Fireplaces  GarageCars  \\\n",
       "0    AllPub    Inside  ...          Gd            8          0           2   \n",
       "1    AllPub       FR2  ...          TA            6          1           2   \n",
       "2    AllPub    Inside  ...          Gd            6          1           2   \n",
       "3    AllPub    Corner  ...          Gd            7          1           3   \n",
       "4    AllPub       FR2  ...          Gd            9          1           3   \n",
       "\n",
       "   GarageArea  OpenPorchSF  PoolArea MoSold YrSold SalePrice  \n",
       "0         548           61         0      2   2008    208500  \n",
       "1         460            0         0      5   2007    181500  \n",
       "2         608           42         0      9   2008    223500  \n",
       "3         642           35         0      2   2006    140000  \n",
       "4         836           84         0     12   2008    250000  \n",
       "\n",
       "[5 rows x 47 columns]"
      ],
      "text/html": "<div>\n<style scoped>\n    .dataframe tbody tr th:only-of-type {\n        vertical-align: middle;\n    }\n\n    .dataframe tbody tr th {\n        vertical-align: top;\n    }\n\n    .dataframe thead th {\n        text-align: right;\n    }\n</style>\n<table border=\"1\" class=\"dataframe\">\n  <thead>\n    <tr style=\"text-align: right;\">\n      <th></th>\n      <th>Unnamed: 0</th>\n      <th>Id</th>\n      <th>MSSubClass</th>\n      <th>MSZoning</th>\n      <th>LotArea</th>\n      <th>Street</th>\n      <th>LotShape</th>\n      <th>LandContour</th>\n      <th>Utilities</th>\n      <th>LotConfig</th>\n      <th>...</th>\n      <th>KitchenQual</th>\n      <th>TotRmsAbvGrd</th>\n      <th>Fireplaces</th>\n      <th>GarageCars</th>\n      <th>GarageArea</th>\n      <th>OpenPorchSF</th>\n      <th>PoolArea</th>\n      <th>MoSold</th>\n      <th>YrSold</th>\n      <th>SalePrice</th>\n    </tr>\n  </thead>\n  <tbody>\n    <tr>\n      <th>0</th>\n      <td>0</td>\n      <td>1</td>\n      <td>60</td>\n      <td>RL</td>\n      <td>8450</td>\n      <td>Pave</td>\n      <td>Reg</td>\n      <td>Lvl</td>\n      <td>AllPub</td>\n      <td>Inside</td>\n      <td>...</td>\n      <td>Gd</td>\n      <td>8</td>\n      <td>0</td>\n      <td>2</td>\n      <td>548</td>\n      <td>61</td>\n      <td>0</td>\n      <td>2</td>\n      <td>2008</td>\n      <td>208500</td>\n    </tr>\n    <tr>\n      <th>1</th>\n      <td>1</td>\n      <td>2</td>\n      <td>20</td>\n      <td>RL</td>\n      <td>9600</td>\n      <td>Pave</td>\n      <td>Reg</td>\n      <td>Lvl</td>\n      <td>AllPub</td>\n      <td>FR2</td>\n      <td>...</td>\n      <td>TA</td>\n      <td>6</td>\n      <td>1</td>\n      <td>2</td>\n      <td>460</td>\n      <td>0</td>\n      <td>0</td>\n      <td>5</td>\n      <td>2007</td>\n      <td>181500</td>\n    </tr>\n    <tr>\n      <th>2</th>\n      <td>2</td>\n      <td>3</td>\n      <td>60</td>\n      <td>RL</td>\n      <td>11250</td>\n      <td>Pave</td>\n      <td>IR1</td>\n      <td>Lvl</td>\n      <td>AllPub</td>\n      <td>Inside</td>\n      <td>...</td>\n      <td>Gd</td>\n      <td>6</td>\n      <td>1</td>\n      <td>2</td>\n      <td>608</td>\n      <td>42</td>\n      <td>0</td>\n      <td>9</td>\n      <td>2008</td>\n      <td>223500</td>\n    </tr>\n    <tr>\n      <th>3</th>\n      <td>3</td>\n      <td>4</td>\n      <td>70</td>\n      <td>RL</td>\n      <td>9550</td>\n      <td>Pave</td>\n      <td>IR1</td>\n      <td>Lvl</td>\n      <td>AllPub</td>\n      <td>Corner</td>\n      <td>...</td>\n      <td>Gd</td>\n      <td>7</td>\n      <td>1</td>\n      <td>3</td>\n      <td>642</td>\n      <td>35</td>\n      <td>0</td>\n      <td>2</td>\n      <td>2006</td>\n      <td>140000</td>\n    </tr>\n    <tr>\n      <th>4</th>\n      <td>4</td>\n      <td>5</td>\n      <td>60</td>\n      <td>RL</td>\n      <td>14260</td>\n      <td>Pave</td>\n      <td>IR1</td>\n      <td>Lvl</td>\n      <td>AllPub</td>\n      <td>FR2</td>\n      <td>...</td>\n      <td>Gd</td>\n      <td>9</td>\n      <td>1</td>\n      <td>3</td>\n      <td>836</td>\n      <td>84</td>\n      <td>0</td>\n      <td>12</td>\n      <td>2008</td>\n      <td>250000</td>\n    </tr>\n  </tbody>\n</table>\n<p>5 rows × 47 columns</p>\n</div>"
     },
     "metadata": {},
     "execution_count": 6
    }
   ],
   "source": [
    "housing_data.head()"
   ]
  },
  {
   "cell_type": "code",
   "execution_count": null,
   "metadata": {},
   "outputs": [],
   "source": []
  }
 ]
}